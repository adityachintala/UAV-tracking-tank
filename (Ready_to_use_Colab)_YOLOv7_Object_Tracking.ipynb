{
  "cells": [
    {
      "cell_type": "markdown",
      "metadata": {
        "id": "aT3RRNt-wXns"
      },
      "source": [
        "GitHub Code Link : https://github.com/RizwanMunawar/yolov7-object-tracking \n",
        "\n",
        "Developer LinkedIn Profile : https://pk.linkedin.com/in/muhammadrizwanmunawar"
      ]
    },
    {
      "cell_type": "markdown",
      "metadata": {
        "id": "NPI6hQ6Cliqe"
      },
      "source": [
        "##### **Detect and Track (Person Class)**"
      ]
    },
    {
      "cell_type": "code",
      "execution_count": null,
      "metadata": {
        "id": "a5IrMh3NllrB"
      },
      "outputs": [],
      "source": [
        "python detect_and_track.py --weights best.pt --source 1 --view-img --baud 57600 --connect com3 --altitude 4 --view-img"
      ]
    },
    {
      "cell_type": "code",
      "execution_count": null,
      "metadata": {},
      "outputs": [],
      "source": [
        "python detect_and_track.py --weights best.pt --source 0 --view-img"
      ]
    },
    {
      "cell_type": "code",
      "execution_count": null,
      "metadata": {},
      "outputs": [],
      "source": [
        "python detect_and_track.py --weights best_1200_all_classes.pt --source runs/detect/object_tracking43/1.mp4 --view-img"
      ]
    },
    {
      "cell_type": "code",
      "execution_count": null,
      "metadata": {},
      "outputs": [],
      "source": [
        "python detect_and_track.py --weights best_1200_all_classes.pt --source 1 --view-img"
      ]
    }
  ],
  "metadata": {
    "colab": {
      "provenance": []
    },
    "kernelspec": {
      "display_name": "drone",
      "language": "python",
      "name": "python3"
    },
    "language_info": {
      "name": "python",
      "version": "3.7.15 (default, Nov 24 2022, 18:44:54) [MSC v.1916 64 bit (AMD64)]"
    },
    "vscode": {
      "interpreter": {
        "hash": "6a5629916d34db7ea7e7bb4cdb17cc9c81456c39c968d06adf4570f647055a28"
      }
    }
  },
  "nbformat": 4,
  "nbformat_minor": 0
}
