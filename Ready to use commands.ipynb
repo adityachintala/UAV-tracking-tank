{
  "cells": [
    {
      "attachments": {},
      "cell_type": "markdown",
      "metadata": {
        "id": "NPI6hQ6Cliqe"
      },
      "source": [
        "### **Detect and Track using drone**"
      ]
    },
    {
      "cell_type": "code",
      "execution_count": null,
      "metadata": {
        "id": "a5IrMh3NllrB"
      },
      "outputs": [],
      "source": [
        "python detect_and_track.py --weights weights.pt --source 1 --view-img --baud 57600 --connect com3 --altitude 4 --view-img"
      ]
    },
    {
      "attachments": {},
      "cell_type": "markdown",
      "metadata": {},
      "source": [
        "<br>"
      ]
    },
    {
      "attachments": {},
      "cell_type": "markdown",
      "metadata": {},
      "source": [
        "### **Detect and track using simulation and webcam**"
      ]
    },
    {
      "cell_type": "code",
      "execution_count": null,
      "metadata": {},
      "outputs": [],
      "source": [
        "python detect_and_track.py --weights weights.pt --source 0 --view-img"
      ]
    },
    {
      "attachments": {},
      "cell_type": "markdown",
      "metadata": {},
      "source": [
        "<br>\n",
        "\n",
        "#### **Detect and Track using local file and simulation**"
      ]
    },
    {
      "cell_type": "code",
      "execution_count": null,
      "metadata": {},
      "outputs": [],
      "source": [
        "python detect_and_track.py --weights weights.pt --source _filepath_ --view-img"
      ]
    }
  ],
  "metadata": {
    "colab": {
      "provenance": []
    },
    "kernelspec": {
      "display_name": "drone",
      "language": "python",
      "name": "python3"
    },
    "language_info": {
      "name": "python",
      "version": "3.7.15 (default, Nov 24 2022, 18:44:54) [MSC v.1916 64 bit (AMD64)]"
    },
    "vscode": {
      "interpreter": {
        "hash": "6a5629916d34db7ea7e7bb4cdb17cc9c81456c39c968d06adf4570f647055a28"
      }
    }
  },
  "nbformat": 4,
  "nbformat_minor": 0
}
